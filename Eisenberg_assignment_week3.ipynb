{
 "cells": [
  {
   "cell_type": "markdown",
   "metadata": {},
   "source": [
    "### Name: Aaron Eisenberg \n",
    "\n",
    "### Course: 2021SU_MSDS_432-DL_SEC55\n",
    "\n",
    "### Programming Assignment 3"
   ]
  },
  {
   "cell_type": "code",
   "execution_count": 1,
   "metadata": {},
   "outputs": [],
   "source": [
    "import numpy as np \n",
    "import pandas as pd \n",
    "import matplotlib.pyplot as plt \n",
    "import time \n",
    "import os \n",
    "from random import random \n",
    "from random import seed "
   ]
  },
  {
   "cell_type": "markdown",
   "metadata": {},
   "source": [
    "### Step 1 - Setup of Random Arrays and Random Seed "
   ]
  },
  {
   "cell_type": "code",
   "execution_count": 2,
   "metadata": {},
   "outputs": [
    {
     "name": "stdout",
     "output_type": "stream",
     "text": [
      "[185, 256, 299, 484, 556, 745, 767, 815, 857, 987]\n"
     ]
    }
   ],
   "source": [
    "np.random.seed(15)\n",
    "rand_array = np.random.randint(100, 1001, 10)  # single array with ten integers from 100 to 1,000 \n",
    "rand_array = sorted(rand_array)\n",
    "print(rand_array)"
   ]
  },
  {
   "cell_type": "markdown",
   "metadata": {},
   "source": [
    "### Step 2 - Factorial Function without Recursion "
   ]
  },
  {
   "cell_type": "code",
   "execution_count": 3,
   "metadata": {},
   "outputs": [],
   "source": [
    "def fact_iterative(n):\n",
    "    output_value = 1 \n",
    "    for i in range(1, n+1): \n",
    "        output_value = output_value * i \n",
    "    return output_value \n",
    "\n",
    "# the lists below will allow us to store and display the factorial values for each random integer generated \n",
    "factorial_list = [fact_iterative(i) for i in rand_array]\n",
    "factorial_list_str1 = [len(str(i)) for i in factorial_list]\n",
    "factorial_list_str2 = [str(i)[0:1] + '.' + str(i)[1:2] + 'e+' + \n",
    "                       str(j-1) for i,j in zip(factorial_list, factorial_list_str1)]"
   ]
  },
  {
   "cell_type": "markdown",
   "metadata": {},
   "source": [
    "For a value of n, the function above defines a starting value of 1, then for each value up to \"n\" the function  defines the \"output_value\" to be the current value multiplied by \"i\" so that it continuously updates. "
   ]
  },
  {
   "cell_type": "code",
   "execution_count": 4,
   "metadata": {},
   "outputs": [],
   "source": [
    "def timer1(x):\n",
    "    start_time = time.perf_counter()\n",
    "    fact_iterative(x)\n",
    "    end_time = time.perf_counter()\n",
    "    run_time = round((end_time - start_time)*1000, 4)\n",
    "    return run_time \n",
    "\n",
    "run_times_iter = []\n",
    "for i in rand_array:\n",
    "    a = timer1(i)\n",
    "    run_times_iter.append(a)"
   ]
  },
  {
   "cell_type": "markdown",
   "metadata": {},
   "source": [
    "### Step 3 - Factorial Function with Recursion "
   ]
  },
  {
   "cell_type": "code",
   "execution_count": 5,
   "metadata": {},
   "outputs": [],
   "source": [
    "def fact_recurs1(n):\n",
    "    if n == 1:\n",
    "        return 1\n",
    "    else:\n",
    "        return n * fact_recurs1(n-1)"
   ]
  },
  {
   "cell_type": "code",
   "execution_count": 6,
   "metadata": {},
   "outputs": [
    {
     "name": "stderr",
     "output_type": "stream",
     "text": [
      "<ipython-input-5-3b906cf64de9>:5: RuntimeWarning: overflow encountered in long_scalars\n",
      "  return n * fact_recurs1(n-1)\n"
     ]
    }
   ],
   "source": [
    "def timer2(x):\n",
    "    start_time = time.perf_counter()\n",
    "    fact_recurs1(x)\n",
    "    end_time = time.perf_counter()\n",
    "    run_time = round((end_time - start_time)*1000, 4)\n",
    "    return run_time\n",
    "\n",
    "run_times_recurs = []\n",
    "for i in rand_array:\n",
    "    b = timer2(i)\n",
    "    run_times_recurs.append(b)"
   ]
  },
  {
   "cell_type": "markdown",
   "metadata": {},
   "source": [
    "### Step 4 - Table and Visualization of Results "
   ]
  },
  {
   "cell_type": "code",
   "execution_count": 7,
   "metadata": {},
   "outputs": [],
   "source": [
    "df1 = pd.DataFrame({'Random Integer': rand_array, 'Factorial': factorial_list_str2, \n",
    "                    'Factorial Run Time Using Iteration': run_times_iter, \n",
    "                    'Factorial Run Time Using Recursion': run_times_recurs}) \n",
    "df1['Difference in Run'] = df1['Factorial Run Time Using Recursion'] - df1['Factorial Run Time Using Iteration']"
   ]
  },
  {
   "cell_type": "code",
   "execution_count": 8,
   "metadata": {},
   "outputs": [
    {
     "data": {
      "text/html": [
       "<div>\n",
       "<style scoped>\n",
       "    .dataframe tbody tr th:only-of-type {\n",
       "        vertical-align: middle;\n",
       "    }\n",
       "\n",
       "    .dataframe tbody tr th {\n",
       "        vertical-align: top;\n",
       "    }\n",
       "\n",
       "    .dataframe thead th {\n",
       "        text-align: right;\n",
       "    }\n",
       "</style>\n",
       "<table border=\"1\" class=\"dataframe\">\n",
       "  <thead>\n",
       "    <tr style=\"text-align: right;\">\n",
       "      <th></th>\n",
       "      <th>Random Integer</th>\n",
       "      <th>Factorial</th>\n",
       "      <th>Factorial Run Time Using Iteration</th>\n",
       "      <th>Factorial Run Time Using Recursion</th>\n",
       "      <th>Difference in Run</th>\n",
       "    </tr>\n",
       "  </thead>\n",
       "  <tbody>\n",
       "    <tr>\n",
       "      <th>0</th>\n",
       "      <td>185</td>\n",
       "      <td>4.1e+340</td>\n",
       "      <td>0.0265</td>\n",
       "      <td>0.5285</td>\n",
       "      <td>0.5020</td>\n",
       "    </tr>\n",
       "    <tr>\n",
       "      <th>1</th>\n",
       "      <td>256</td>\n",
       "      <td>8.5e+506</td>\n",
       "      <td>0.0387</td>\n",
       "      <td>0.2606</td>\n",
       "      <td>0.2219</td>\n",
       "    </tr>\n",
       "    <tr>\n",
       "      <th>2</th>\n",
       "      <td>299</td>\n",
       "      <td>1.0e+612</td>\n",
       "      <td>0.0354</td>\n",
       "      <td>0.2917</td>\n",
       "      <td>0.2563</td>\n",
       "    </tr>\n",
       "    <tr>\n",
       "      <th>3</th>\n",
       "      <td>484</td>\n",
       "      <td>1.0e+1091</td>\n",
       "      <td>0.0732</td>\n",
       "      <td>0.5011</td>\n",
       "      <td>0.4279</td>\n",
       "    </tr>\n",
       "    <tr>\n",
       "      <th>4</th>\n",
       "      <td>556</td>\n",
       "      <td>3.6e+1286</td>\n",
       "      <td>0.1020</td>\n",
       "      <td>0.5675</td>\n",
       "      <td>0.4655</td>\n",
       "    </tr>\n",
       "    <tr>\n",
       "      <th>5</th>\n",
       "      <td>745</td>\n",
       "      <td>1.1e+1818</td>\n",
       "      <td>0.1849</td>\n",
       "      <td>0.7165</td>\n",
       "      <td>0.5316</td>\n",
       "    </tr>\n",
       "    <tr>\n",
       "      <th>6</th>\n",
       "      <td>767</td>\n",
       "      <td>2.3e+1881</td>\n",
       "      <td>0.1928</td>\n",
       "      <td>0.6988</td>\n",
       "      <td>0.5060</td>\n",
       "    </tr>\n",
       "    <tr>\n",
       "      <th>7</th>\n",
       "      <td>815</td>\n",
       "      <td>3.1e+2020</td>\n",
       "      <td>0.2163</td>\n",
       "      <td>0.6399</td>\n",
       "      <td>0.4236</td>\n",
       "    </tr>\n",
       "    <tr>\n",
       "      <th>8</th>\n",
       "      <td>857</td>\n",
       "      <td>1.7e+2143</td>\n",
       "      <td>0.2375</td>\n",
       "      <td>0.6019</td>\n",
       "      <td>0.3644</td>\n",
       "    </tr>\n",
       "    <tr>\n",
       "      <th>9</th>\n",
       "      <td>987</td>\n",
       "      <td>4.3e+2528</td>\n",
       "      <td>0.3032</td>\n",
       "      <td>0.9118</td>\n",
       "      <td>0.6086</td>\n",
       "    </tr>\n",
       "  </tbody>\n",
       "</table>\n",
       "</div>"
      ],
      "text/plain": [
       "   Random Integer  Factorial  Factorial Run Time Using Iteration  \\\n",
       "0             185   4.1e+340                              0.0265   \n",
       "1             256   8.5e+506                              0.0387   \n",
       "2             299   1.0e+612                              0.0354   \n",
       "3             484  1.0e+1091                              0.0732   \n",
       "4             556  3.6e+1286                              0.1020   \n",
       "5             745  1.1e+1818                              0.1849   \n",
       "6             767  2.3e+1881                              0.1928   \n",
       "7             815  3.1e+2020                              0.2163   \n",
       "8             857  1.7e+2143                              0.2375   \n",
       "9             987  4.3e+2528                              0.3032   \n",
       "\n",
       "   Factorial Run Time Using Recursion  Difference in Run  \n",
       "0                              0.5285             0.5020  \n",
       "1                              0.2606             0.2219  \n",
       "2                              0.2917             0.2563  \n",
       "3                              0.5011             0.4279  \n",
       "4                              0.5675             0.4655  \n",
       "5                              0.7165             0.5316  \n",
       "6                              0.6988             0.5060  \n",
       "7                              0.6399             0.4236  \n",
       "8                              0.6019             0.3644  \n",
       "9                              0.9118             0.6086  "
      ]
     },
     "execution_count": 8,
     "metadata": {},
     "output_type": "execute_result"
    }
   ],
   "source": [
    "df1"
   ]
  },
  {
   "cell_type": "code",
   "execution_count": 48,
   "metadata": {},
   "outputs": [
    {
     "data": {
      "image/png": "[encoded data removed]",
      "text/plain": [
       "<Figure size 720x576 with 1 Axes>"
      ]
     },
     "metadata": {
      "needs_background": "light"
     },
     "output_type": "display_data"
    }
   ],
   "source": [
    "fig, ax = plt.subplots(figsize=(10, 8))\n",
    "\n",
    "ax.plot(df1['Random Integer'], df1['Factorial Run Time Using Iteration'], label='Using Iteration')\n",
    "ax.plot(df1['Random Integer'], df1['Factorial Run Time Using Recursion'], label='Using Recursion')\n",
    "# ax.plot(df1['Random Integer'], df1['Difference in Run Time'], label='Difference')\n",
    "\n",
    "ax.set_xlabel('RANDOM INTEGER VALUES')\n",
    "ax.set_ylabel('RUN TIME (miliseconds)')\n",
    "\n",
    "min_iter = min(df1['Factorial Run Time Using Iteration'])\n",
    "diff_iter = (max(df1['Factorial Run Time Using Iteration']) - min_iter) / (len(rand_array))\n",
    "linear_iter = [min_iter + diff_iter*i for i in range(0, len(df1['Factorial Run Time Using Iteration']))] \n",
    "ax.plot(np.arange(200, 1090, 90), linear_iter, lw=0.4, dashes=[4,4], label='Linear Approximation for Iteration')\n",
    "\n",
    "min_recur = min(df1['Factorial Run Time Using Recursion'])\n",
    "diff_recur = (max(df1['Factorial Run Time Using Recursion']) - min_recur) / (len(rand_array))\n",
    "linear_recur = [min_recur + diff_recur*i for i in range(0, len(df1['Factorial Run Time Using Recursion']))] \n",
    "ax.plot(np.arange(200, 1090, 90), linear_recur, lw=0.4, dashes=[8,8], label='Linear Approximation for Recursion')\n",
    "\n",
    "plt.legend()\n",
    "plt.title('Run Times for Factorial Calculation')\n",
    "plt.show();"
   ]
  },
  {
   "cell_type": "markdown",
   "metadata": {},
   "source": [
    "### Step 5 - Amplification of recursive factorial function (using explicit memoization)"
   ]
  },
  {
   "cell_type": "code",
   "execution_count": 30,
   "metadata": {},
   "outputs": [],
   "source": [
    "factorial_cache = {}                         # set up empty dictionary to load key-values \n",
    "def fact_recurs2(n):                         # define function \n",
    "    if n in factorial_cache:                 # check if value \"n\" is in the cache dictionary and if it is then:\n",
    "        return factorial_cache[n]            # call the corresponding value, which is the factorial in this case \n",
    "    if n == 1:                               # to calculate factorial values we use same function as before\n",
    "        fact_val = 1 \n",
    "    else:\n",
    "        fact_val = n * fact_recurs2(n-1)     # here the function is able to use the values in the dictionary \n",
    "    factorial_cache[n] = fact_val            # in this step we load the dictionary with the factorial values as\n",
    "    return fact_val                                 # they are calculated "
   ]
  },
  {
   "cell_type": "code",
   "execution_count": 40,
   "metadata": {},
   "outputs": [
    {
     "name": "stdout",
     "output_type": "stream",
     "text": [
      "Factorial of 5,000: 4.2e+16325\n"
     ]
    }
   ],
   "source": [
    "a = fact_recurs2(5000)\n",
    "b = len(str(a)) - 1 \n",
    "print('Factorial of 5,000:', str(a)[0:1] + '.'  + str(a)[1:2] + 'e+' + str(b))"
   ]
  },
  {
   "cell_type": "markdown",
   "metadata": {},
   "source": [
    "The function above allows us to calculate the factorial of larger values than the initial factorial function that uses recursion.   Rather than recalculate all of the factorial values each time, the function calls the appropriate value from the dictionary each time a number \"n\" is run through it.   In the \"Resources\" section below I have left links to a couple of videos that were helpful in understanding this topic and coding it properly.  \n",
    "\n",
    "Below is an example of a value that can be calculated with the latter recursive factorial function but not the initial one.  The code below is set up to print out a message only if the function is unable to run.  "
   ]
  },
  {
   "cell_type": "code",
   "execution_count": 58,
   "metadata": {},
   "outputs": [
    {
     "name": "stdout",
     "output_type": "stream",
     "text": [
      "Maximum recursion limit reached for this value using the initial function\n"
     ]
    }
   ],
   "source": [
    "try:\n",
    "    fact_recurs1(5000)\n",
    "except:\n",
    "    print('Maximum recursion limit reached for this value using the initial function')\n",
    "\n",
    "try:\n",
    "    fact_recurs2(5000)\n",
    "except:\n",
    "    print('Maximum recursion limit reached for this value using the second function')"
   ]
  },
  {
   "cell_type": "markdown",
   "metadata": {},
   "source": [
    "### Step 6 - Iteration Process for Opening File Folders"
   ]
  },
  {
   "cell_type": "code",
   "execution_count": 43,
   "metadata": {},
   "outputs": [],
   "source": [
    "os.getcwd()"
   ]
  },
  {
   "cell_type": "code",
   "execution_count": 30,
   "metadata": {},
   "outputs": [],
   "source": [
    "os.chdir('/Users/aaron/main_documents_folder')"
   ]
  },
  {
   "cell_type": "code",
   "execution_count": 44,
   "metadata": {},
   "outputs": [],
   "source": [
    "for i in os.listdir():\n",
    "    if os.path.isfile(i):\n",
    "        print(i)\n",
    "    else:\n",
    "        folder_list = []\n",
    "        \n",
    "        # logic: \n",
    "        # if it is a folder then open it up \n",
    "        # base condition is \"no folders found\""
   ]
  },
  {
   "cell_type": "markdown",
   "metadata": {},
   "source": [
    "### Summary \n",
    "\n",
    "The recursive method of calculating the factorial value is much slower because we have to run through the entire function repeatedly until the value in the function is reduced to 1.  We can see that for all run times the recursive method took considerably longer.  Both the iterative and the recursive methods appear to have an approximately linear increase in run time as we increase the value for which we are calculating the factorial.  Both of them appear to have a Big O notation of O(n) since they are linear.  The recursive method shows a larger slope when viewing the dashed lines, which attempt to approximate the trend for each method.  \n",
    "\n",
    "These methods are important for data engineering because calculations and searches often rely on one of the two methods.  I find recursion easier to read and understand but it is much slower to run when scaled to large values."
   ]
  },
  {
   "cell_type": "markdown",
   "metadata": {},
   "source": [
    "### Resources:\n",
    "\n",
    "Youtube Channels with videos on Memoization (used in Step 5 above):\n",
    "1. Corey Schafer \n",
    "2. Socratica "
   ]
  }
 ],
 "metadata": {
  "kernelspec": {
   "display_name": "Python 3",
   "language": "python",
   "name": "python3"
  },
  "language_info": {
   "codemirror_mode": {
    "name": "ipython",
    "version": 3
   },
   "file_extension": ".py",
   "mimetype": "text/x-python",
   "name": "python",
   "nbconvert_exporter": "python",
   "pygments_lexer": "ipython3",
   "version": "3.8.5"
  }
 },
 "nbformat": 4,
 "nbformat_minor": 4
}
